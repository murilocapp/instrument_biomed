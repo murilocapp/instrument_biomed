{
 "cells": [
  {
   "cell_type": "code",
   "execution_count": 1,
   "metadata": {},
   "outputs": [],
   "source": [
    "from PySpice.Spice.Library import SpiceLibrary\n",
    "from PySpice.Spice.Netlist import Circuit\n",
    "\n",
    "import matplotlib.pyplot as plt\n",
    "import matplotlib.lines as mlines"
   ]
  },
  {
   "cell_type": "code",
   "execution_count": 23,
   "metadata": {},
   "outputs": [],
   "source": [
    "def ler_arquivo(arquivo):\n",
    "    with open(arquivo, 'r') as f:\n",
    "        netlist = f.read()\n",
    "    circuit = Circuit(netlist)\n",
    "    return circuit\n"
   ]
  },
  {
   "cell_type": "code",
   "execution_count": 25,
   "metadata": {},
   "outputs": [
    {
     "name": "stdout",
     "output_type": "stream",
     "text": [
      ".title Vinput 1 0 dc 0 external\n",
      "R1 1 2 10kOhm\n",
      "R2 2 0 10kOhm\n",
      "C2 3 0 10mF\n",
      "\n",
      "\n"
     ]
    }
   ],
   "source": [
    "circuit = ler_arquivo('componentes.txt')\n",
    "print(circuit)\n",
    "    "
   ]
  },
  {
   "cell_type": "code",
   "execution_count": 30,
   "metadata": {},
   "outputs": [
    {
     "name": "stdout",
     "output_type": "stream",
     "text": [
      "<PySpice.Probe.WaveForm.TransientAnalysis object at 0x0000016876B19430>\n"
     ]
    }
   ],
   "source": [
    "def test_spinit():\n",
    "\n",
    "        from PySpice.Spice.Netlist import Circuit\n",
    "        import PySpice.Unit as U\n",
    "\n",
    "        circuit = Circuit('Test')\n",
    "\n",
    "        # Fixme: On Windows\n",
    "        #   Supplies reduced to   2.5749% Supplies reduced to   1.7100% Warning: source stepping failed\n",
    "        #   doAnalyses: Too many iterations without convergence\n",
    "        source = circuit.V('cc', 'vcc', circuit.gnd, 15@U.u_V)\n",
    "        circuit.R(1, 'output', 'comparator', 1@U.u_kΩ)\n",
    "        circuit.C(1, 'comparator', circuit.gnd, 100@U.u_nF)\n",
    "        circuit.R(2, 'output', 'reference', 100@U.u_kΩ)\n",
    "        circuit.R(3, 'vcc', 'reference', 100@U.u_kΩ)\n",
    "        circuit.R(4, 'reference', circuit.gnd, 100@U.u_kΩ)\n",
    "        # circuit.NonLinearVoltageSource(1, 'output', circuit.gnd,\n",
    "        #                                expression='V(reference, comparator)',\n",
    "        #                                table=((-U.micro(1), 0),\n",
    "        #                                       (U.micro(1), source.dc_value))\n",
    "        # )\n",
    "\n",
    "        simulator = circuit.simulator(temperature=25, nominal_temperature=25)\n",
    "        simulator.initial_condition(comparator=0)  # Fixme: simulator.nodes.comparator == 0\n",
    "        analysis = simulator.transient(step_time=1@U.u_us, end_time=500@U.u_us)\n",
    "\n",
    "        print(analysis.)\n",
    "    \n",
    "\n",
    "test_spinit()"
   ]
  }
 ],
 "metadata": {
  "kernelspec": {
   "display_name": ".venv",
   "language": "python",
   "name": "python3"
  },
  "language_info": {
   "codemirror_mode": {
    "name": "ipython",
    "version": 3
   },
   "file_extension": ".py",
   "mimetype": "text/x-python",
   "name": "python",
   "nbconvert_exporter": "python",
   "pygments_lexer": "ipython3",
   "version": "3.12.2"
  }
 },
 "nbformat": 4,
 "nbformat_minor": 2
}
